{
  "nbformat": 4,
  "nbformat_minor": 0,
  "metadata": {
    "colab": {
      "provenance": [],
      "authorship_tag": "ABX9TyPmefrXikEObgoJlaw2VuKf",
      "include_colab_link": true
    },
    "kernelspec": {
      "name": "python3",
      "display_name": "Python 3"
    },
    "language_info": {
      "name": "python"
    }
  },
  "cells": [
    {
      "cell_type": "markdown",
      "metadata": {
        "id": "view-in-github",
        "colab_type": "text"
      },
      "source": [
        "<a href=\"https://colab.research.google.com/github/francesca-asd/studying-cloud-computing-basics/blob/main/Colab_test.ipynb\" target=\"_parent\"><img src=\"https://colab.research.google.com/assets/colab-badge.svg\" alt=\"Open In Colab\"/></a>"
      ]
    },
    {
      "cell_type": "markdown",
      "source": [
        "This is a test Colab notebook"
      ],
      "metadata": {
        "id": "gHCXyz38UhV_"
      }
    },
    {
      "cell_type": "code",
      "source": [
        "print('ciao Martino')"
      ],
      "metadata": {
        "id": "zJEXp2izUnw6"
      },
      "execution_count": null,
      "outputs": []
    }
  ]
}